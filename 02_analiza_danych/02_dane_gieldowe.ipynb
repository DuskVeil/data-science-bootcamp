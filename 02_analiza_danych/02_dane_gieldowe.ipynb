{
  "nbformat": 4,
  "nbformat_minor": 0,
  "metadata": {
    "colab": {
      "name": "02_dane_gieldowe.ipynb",
      "provenance": [],
      "include_colab_link": true
    },
    "kernelspec": {
      "name": "python3",
      "display_name": "Python 3"
    }
  },
  "cells": [
    {
      "cell_type": "markdown",
      "metadata": {
        "id": "view-in-github",
        "colab_type": "text"
      },
      "source": [
        "<a href=\"https://colab.research.google.com/github/DuskVeil/data-science-bootcamp/blob/main/02_analiza_danych/02_dane_gieldowe.ipynb\" target=\"_parent\"><img src=\"https://colab.research.google.com/assets/colab-badge.svg\" alt=\"Open In Colab\"/></a>"
      ]
    },
    {
      "cell_type": "markdown",
      "metadata": {
        "id": "arMMwIyfIRk2"
      },
      "source": [
        "* @author: krakowiakpawel9@gmail.com  \n",
        "* @site: e-smartdata.org"
      ]
    },
    {
      "cell_type": "markdown",
      "metadata": {
        "id": "rMFe69WXmwp1"
      },
      "source": [
        "### Pandas\n",
        ">Strona biblioteki: [https://pandas.pydata.org/](https://pandas.pydata.org/)  \n",
        ">Dokumentacja: [https://pandas.pydata.org/pandas-docs/stable/](https://pandas.pydata.org/pandas-docs/stable/)\n",
        ">\n",
        ">Podstawowa biblioteka do analizy danych w języku Python.\n",
        ">\n",
        ">Aby zainstalować bibliotekę Pandas użyj polecenia poniżej:\n",
        "```\n",
        "pip install pandas\n",
        "```\n",
        "### Spis treści:\n",
        "1. [Import Bibliotek](#a1)\n",
        "2. [Załadowanie danych](#a2)\n",
        "3. [Eksploracja danych](#a3)\n",
        "4. [Selekcja kolumn](#a4)\n",
        "5. [Selekcja wierszy](#a5)\n",
        "6. [Obliczanie nowych kolumn](#a6)\n",
        "7. [Filtrowanie danych](#a7)\n",
        "\n",
        "\n",
        "\n",
        "\n",
        "\n",
        "\n",
        "\n",
        "\n"
      ]
    },
    {
      "cell_type": "markdown",
      "metadata": {
        "id": "3MCR3_821BUR"
      },
      "source": [
        "### <a name='a1'></a> Import Bibliotek"
      ]
    },
    {
      "cell_type": "code",
      "metadata": {
        "id": "L4Ipyk7UmzIw",
        "outputId": "878ff7e4-d1d0-4878-e75b-8eb4df350cef",
        "colab": {
          "base_uri": "https://localhost:8080/",
          "height": 51
        }
      },
      "source": [
        "import numpy as np\n",
        "import pandas as pd\n",
        "\n",
        "print(f'Numpy: {np.__version__}')\n",
        "print(f'Pandas: {pd.__version__}')"
      ],
      "execution_count": null,
      "outputs": [
        {
          "output_type": "stream",
          "text": [
            "Numpy: 1.17.4\n",
            "Pandas: 0.25.3\n"
          ],
          "name": "stdout"
        }
      ]
    },
    {
      "cell_type": "markdown",
      "metadata": {
        "id": "GJC4uD6N1Mwm"
      },
      "source": [
        "### <a name='a2'></a> Załadowanie danych"
      ]
    },
    {
      "cell_type": "code",
      "metadata": {
        "id": "AEE5ZeP_mtQo",
        "outputId": "e5bee573-785d-47fb-f672-2015c57846f3",
        "colab": {
          "base_uri": "https://localhost:8080/",
          "height": 188
        }
      },
      "source": [
        "def fetch_financial_data(company='AMZN'):\n",
        "    \"\"\"Pobiera dane dotyczące notowań spółek na giełdzie według symboli\n",
        "    na serwisie stooq.pl\"\"\"\n",
        "    import pandas_datareader.data as web\n",
        "    return web.DataReader(name=company, data_source='stooq')\n",
        "\n",
        "df = fetch_financial_data()\n",
        "df.info()"
      ],
      "execution_count": null,
      "outputs": [
        {
          "output_type": "stream",
          "text": [
            "<class 'pandas.core.frame.DataFrame'>\n",
            "DatetimeIndex: 2502 entries, 2019-12-10 to 2010-01-04\n",
            "Data columns (total 5 columns):\n",
            "Open      2502 non-null float64\n",
            "High      2502 non-null float64\n",
            "Low       2502 non-null float64\n",
            "Close     2502 non-null float64\n",
            "Volume    2501 non-null float64\n",
            "dtypes: float64(5)\n",
            "memory usage: 117.3 KB\n"
          ],
          "name": "stdout"
        }
      ]
    },
    {
      "cell_type": "markdown",
      "metadata": {
        "id": "bTD55u312ZAD"
      },
      "source": [
        "### <a name='a3'></a> Eksploracja danych"
      ]
    },
    {
      "cell_type": "markdown",
      "metadata": {
        "id": "mwrFj1ytna_v"
      },
      "source": [
        "### <a name='a4'></a> Selekcja kolumn"
      ]
    },
    {
      "cell_type": "markdown",
      "metadata": {
        "id": "-P0aNX-Jonpt"
      },
      "source": [
        "### <a name='a5'></a>  Selekcja wierszy"
      ]
    },
    {
      "cell_type": "markdown",
      "metadata": {
        "id": "vrH5HyMbo6wX"
      },
      "source": [
        "### <a name='a6'></a> Obliczanie nowych kolumn"
      ]
    },
    {
      "cell_type": "markdown",
      "metadata": {
        "id": "WFUhZCu23NDd"
      },
      "source": [
        "### <a name='a7'></a> Filtrowanie danych"
      ]
    },
    {
      "cell_type": "code",
      "metadata": {
        "id": "osuzpsZXsv9A"
      },
      "source": [],
      "execution_count": null,
      "outputs": []
    }
  ]
}